{
 "cells": [
  {
   "cell_type": "code",
   "execution_count": 1,
   "metadata": {},
   "outputs": [],
   "source": [
    "\n",
    "from tkinter import *\n"
   ]
  },
  {
   "cell_type": "code",
   "execution_count": 2,
   "metadata": {},
   "outputs": [],
   "source": [
    "root=Tk()"
   ]
  },
  {
   "cell_type": "code",
   "execution_count": 3,
   "metadata": {},
   "outputs": [],
   "source": [
    "#title of the application \n",
    "root.title(\"Gayatri's calculator\")\n",
    "root.configure(background=\"aqua\")\n",
    "bold_font=('Arial',10,'bold')\n",
    "e=Entry(root,width=50,borderwidth=20,fg=\"blue\",font=bold_font)\n",
    "e.grid(row=0,column=0,columnspan=20,padx=20,pady=30)"
   ]
  },
  {
   "cell_type": "code",
   "execution_count": 4,
   "metadata": {},
   "outputs": [],
   "source": [
    "#declaring functions\n",
    "def buttonclick(number):\n",
    "    #e.delete(0,END) #delete the numbers of previous\n",
    "    current=e.get()\n",
    "    e.delete(0,END)\n",
    "    e.insert(0,str(current) + str(number))\n",
    "\n",
    "def clear():\n",
    "    e.delete(0,END)\n",
    "    \n",
    "def buttonadd():\n",
    "    firstnum=e.get()\n",
    "    global fnum\n",
    "    global math\n",
    "    math=\"add\"\n",
    "    fnum=int(firstnum)\n",
    "    e.delete(0,END)\n",
    "    \n",
    "def equal():\n",
    "    secondnum=e.get()\n",
    "    e.delete(0,END)\n",
    "    if math==\"add\":\n",
    "        e.insert(0,fnum+int(secondnum))\n",
    "    elif math==\"sub\":\n",
    "        e.insert(0,fnum-int(secondnum))\n",
    "    elif math==\"mul\":\n",
    "        e.insert(0,fnum*int(secondnum))\n",
    "    elif math==\"div\":\n",
    "        e.insert(0,fnum/int(secondnum))\n",
    "    elif math==\"pow\":\n",
    "        e.insert(0,fnum**int(secondnum))"
   ]
  },
  {
   "cell_type": "code",
   "execution_count": 5,
   "metadata": {},
   "outputs": [],
   "source": [
    "#functions that calculate globe is used to access another functions\n",
    "\n",
    "def sub():\n",
    "    firstnum=e.get()\n",
    "    global fnum\n",
    "    global math\n",
    "    math=\"sub\"\n",
    "    fnum=int(firstnum)\n",
    "    e.delete(0,END)\n",
    "    return\n",
    "\n",
    "def mul():\n",
    "    firstnum=e.get()\n",
    "    global fnum\n",
    "    global math\n",
    "    math=\"mul\"\n",
    "    fnum=int(firstnum)\n",
    "    e.delete(0,END)\n",
    "    return\n",
    "\n",
    "def div():\n",
    "    firstnum=e.get()\n",
    "    global fnum\n",
    "    global math\n",
    "    math=\"div\"\n",
    "    fnum=int(firstnum)\n",
    "    e.delete(0,END)\n",
    "    return\n",
    "\n",
    "def pow():\n",
    "    firstnum=e.get()\n",
    "    global fnum\n",
    "    global math\n",
    "    math=\"pow\"\n",
    "    fnum=int(firstnum)\n",
    "    e.delete(0,END)\n",
    "    return\n"
   ]
  },
  {
   "cell_type": "code",
   "execution_count": 6,
   "metadata": {},
   "outputs": [],
   "source": [
    "#cretion of the buttons\n",
    "button1=Button(root,text=\"1\",padx=40,pady=20,command=lambda:buttonclick(1))\n",
    "button2=Button(root,text=\"2\",padx=40,pady=20,command=lambda:buttonclick(2))\n",
    "button3=Button(root,text=\"3\",padx=40,pady=20,command=lambda:buttonclick(3))\n",
    "button4=Button(root,text=\"4\",padx=40,pady=20,command=lambda:buttonclick(4))\n",
    "button5=Button(root,text=\"5\",padx=40,pady=20,command=lambda:buttonclick(5))\n",
    "button6=Button(root,text=\"6\",padx=40,pady=20,command=lambda:buttonclick(6))\n",
    "button7=Button(root,text=\"7\",padx=40,pady=20,command=lambda:buttonclick(7))\n",
    "button8=Button(root,text=\"8\",padx=40,pady=20,command=lambda:buttonclick(8))\n",
    "button9=Button(root,text=\"9\",padx=40,pady=20,command=lambda:buttonclick(9))\n",
    "button0=Button(root,text=\"0\",padx=40,pady=20,command=lambda:buttonclick(0))"
   ]
  },
  {
   "cell_type": "code",
   "execution_count": 7,
   "metadata": {},
   "outputs": [],
   "source": [
    "#Operations\n",
    "buttonadd=Button(root,text=\"+\",padx=40,pady=20,command=buttonadd)\n",
    "buttonsub=Button(root,text=\"-\",padx=40,pady=20,command=sub)\n",
    "buttonmul=Button(root,text=\"*\",padx=40,pady=20,command=mul)\n",
    "buttondiv=Button(root,text=\"/\",padx=40,pady=20,command=div)\n",
    "buttonequl=Button(root,text=\"=\",padx=40,pady=20,command=equal)\n",
    "buttonclear=Button(root,text=\"clear\",padx=40,pady=20,command=clear)\n",
    "buttonpow=Button(root,text=\"power\",padx=40,pady=20,command=pow)\n",
    "buttonquit=Button(root,text=\"exit\",padx=40,pady=20,command=root.quit)"
   ]
  },
  {
   "cell_type": "code",
   "execution_count": 8,
   "metadata": {},
   "outputs": [],
   "source": [
    "#buttonquit.pack()\n",
    "#put button on screen\n",
    "button1.grid(row=3,column=0)\n",
    "button2.grid(row=3,column=1)\n",
    "button3.grid(row=3,column=2)\n",
    "button4.grid(row=2,column=0)\n",
    "button5.grid(row=2,column=1)\n",
    "button6.grid(row=2,column=2)\n",
    "button7.grid(row=1,column=0)\n",
    "button8.grid(row=1,column=1)\n",
    "button9.grid(row=1,column=2)\n",
    "button0.grid(row=4,column=0)\n",
    "buttonadd.grid(row=4,column=1)\n",
    "buttonsub.grid(row=4,column=2)\n",
    "buttonmul.grid(row=5,column=0)\n",
    "buttondiv.grid(row=5,column=1)\n",
    "buttonclear.grid(row=6,column=0)\n",
    "buttonequl.grid(row=5,column=2)\n",
    "buttonpow.grid(row=6,column=1)\n",
    "buttonquit.grid(row=6,column=2)"
   ]
  },
  {
   "cell_type": "code",
   "execution_count": null,
   "metadata": {},
   "outputs": [],
   "source": [
    "#without this the application couldn't run\n",
    "root.mainloop()"
   ]
  },
  {
   "cell_type": "code",
   "execution_count": null,
   "metadata": {},
   "outputs": [],
   "source": []
  },
  {
   "cell_type": "code",
   "execution_count": null,
   "metadata": {},
   "outputs": [],
   "source": []
  }
 ],
 "metadata": {
  "kernelspec": {
   "display_name": "Python 3",
   "language": "python",
   "name": "python3"
  },
  "language_info": {
   "codemirror_mode": {
    "name": "ipython",
    "version": 3
   },
   "file_extension": ".py",
   "mimetype": "text/x-python",
   "name": "python",
   "nbconvert_exporter": "python",
   "pygments_lexer": "ipython3",
   "version": "3.7.6"
  }
 },
 "nbformat": 4,
 "nbformat_minor": 4
}
